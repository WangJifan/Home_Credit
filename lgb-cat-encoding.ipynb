{
 "cells": [
  {
   "cell_type": "markdown",
   "id": "ebd0c913",
   "metadata": {
    "papermill": {
     "duration": 0.006722,
     "end_time": "2024-05-25T08:47:30.061503",
     "exception": false,
     "start_time": "2024-05-25T08:47:30.054781",
     "status": "completed"
    },
    "tags": []
   },
   "source": [
    "# Reference \n",
    "(LGB + Cat ensemble) +Stacking https://www.kaggle.com/code/harrychan123/lgb-cat-ensemble-stacking"
   ]
  },
  {
   "cell_type": "markdown",
   "id": "eb7bcdea",
   "metadata": {
    "papermill": {
     "duration": 0.006983,
     "end_time": "2024-05-25T08:47:30.074832",
     "exception": false,
     "start_time": "2024-05-25T08:47:30.067849",
     "status": "completed"
    },
    "tags": []
   },
   "source": [
    "# Let's get to work!"
   ]
  },
  {
   "cell_type": "markdown",
   "id": "49f5a2e0",
   "metadata": {
    "papermill": {
     "duration": 0.00587,
     "end_time": "2024-05-25T08:47:30.087128",
     "exception": false,
     "start_time": "2024-05-25T08:47:30.081258",
     "status": "completed"
    },
    "tags": []
   },
   "source": [
    "## Imports "
   ]
  },
  {
   "cell_type": "code",
   "execution_count": 1,
   "id": "672af59b",
   "metadata": {
    "_cell_guid": "3ed5829e-7666-462e-abcc-a5492ae4fcec",
    "_uuid": "6d51fb38-3f61-48b9-a8be-f4928616260c",
    "collapsed": false,
    "execution": {
     "iopub.execute_input": "2024-05-25T08:47:30.100674Z",
     "iopub.status.busy": "2024-05-25T08:47:30.100353Z",
     "iopub.status.idle": "2024-05-25T08:47:37.625034Z",
     "shell.execute_reply": "2024-05-25T08:47:37.624206Z"
    },
    "jupyter": {
     "outputs_hidden": false
    },
    "papermill": {
     "duration": 7.534212,
     "end_time": "2024-05-25T08:47:37.627478",
     "exception": false,
     "start_time": "2024-05-25T08:47:30.093266",
     "status": "completed"
    },
    "tags": []
   },
   "outputs": [],
   "source": [
    "import sys\n",
    "from pathlib import Path\n",
    "import subprocess\n",
    "import os\n",
    "import gc\n",
    "from glob import glob\n",
    "\n",
    "import numpy as np\n",
    "import pandas as pd\n",
    "import polars as pl\n",
    "from datetime import datetime\n",
    "import seaborn as sns\n",
    "import matplotlib.pyplot as plt\n",
    "\n",
    "import warnings\n",
    "warnings.filterwarnings('ignore')\n",
    "\n",
    "ROOT = '/kaggle/input/home-credit-credit-risk-model-stability'\n",
    "\n",
    "from sklearn.model_selection import TimeSeriesSplit, GroupKFold, StratifiedGroupKFold\n",
    "from sklearn.base import BaseEstimator, RegressorMixin\n",
    "from sklearn.metrics import roc_auc_score\n",
    "import lightgbm as lgb\n",
    "\n",
    "from imblearn.over_sampling import SMOTE\n",
    "from sklearn.preprocessing import OrdinalEncoder\n",
    "from sklearn.impute import KNNImputer\n",
    "from sklearn.preprocessing import OrdinalEncoder"
   ]
  },
  {
   "cell_type": "code",
   "execution_count": 2,
   "id": "05e756b3",
   "metadata": {
    "execution": {
     "iopub.execute_input": "2024-05-25T08:47:37.641822Z",
     "iopub.status.busy": "2024-05-25T08:47:37.641239Z",
     "iopub.status.idle": "2024-05-25T08:47:37.681043Z",
     "shell.execute_reply": "2024-05-25T08:47:37.680301Z"
    },
    "papermill": {
     "duration": 0.049094,
     "end_time": "2024-05-25T08:47:37.683025",
     "exception": false,
     "start_time": "2024-05-25T08:47:37.633931",
     "status": "completed"
    },
    "tags": []
   },
   "outputs": [],
   "source": [
    "class Pipeline:\n",
    "\n",
    "    def set_table_dtypes(df):\n",
    "        for col in df.columns:\n",
    "            if col in [\"case_id\", \"WEEK_NUM\", \"num_group1\", \"num_group2\"]:\n",
    "                df = df.with_columns(pl.col(col).cast(pl.Int64))\n",
    "            elif col in [\"date_decision\"]:\n",
    "                df = df.with_columns(pl.col(col).cast(pl.Date))\n",
    "            elif col[-1] in (\"P\", \"A\"):\n",
    "                df = df.with_columns(pl.col(col).cast(pl.Float64))\n",
    "            elif col[-1] in (\"M\",):\n",
    "                df = df.with_columns(pl.col(col).cast(pl.String))\n",
    "            elif col[-1] in (\"D\",):\n",
    "                df = df.with_columns(pl.col(col).cast(pl.Date,strict=False))\n",
    "        return df\n",
    "\n",
    "    def handle_dates(df):\n",
    "        for col in df.columns: \n",
    "                if col.endswith(\"D\"):\n",
    "                    # Calculate the difference in days between each date column and date_decision\n",
    "                    df = df.with_columns(\n",
    "                        (pl.col(\"date_decision\") - pl.col(col)).dt.total_days().alias(col)\n",
    "                    )\n",
    "                    df = df.with_columns(pl.col(col).fill_null(np.nan)) \n",
    "        # Drop date_decision column\n",
    "        df = df.drop(\"date_decision\")\n",
    "#         print(df.dtypes) # for Debugging\n",
    "        return df\n",
    "\n",
    "    def filter_cols(df,base_df = None,test=False):\n",
    "        #for test data\n",
    "            for col in df.columns:\n",
    "                if col not in [\"target\", \"case_id\", \"WEEK_NUM\"]:\n",
    "                    isnull = df[col].is_null().mean()\n",
    "                    if isnull > 0.97:\n",
    "                        df = df.drop(col)\n",
    "            columns_to_drop = []\n",
    "            for col in df.columns:\n",
    "                if (col not in [\"target\", \"case_id\", \"WEEK_NUM\"]) & (df[col].dtype == pl.String):\n",
    "                    freq = df[col].n_unique()\n",
    "                    if (freq == 1) or (freq > 200):\n",
    "                        columns_to_drop.append(col)\n",
    "\n",
    "            df = df.drop(columns_to_drop)\n",
    "            return df\n",
    "\n",
    "\n",
    "class Aggregator:\n",
    "    # Please add or subtract features yourself, be aware that too many features will take up too much space.\n",
    "    def num_expr(df):\n",
    "        cols = [col for col in df.columns if col[-1] in (\"P\", \"A\")]\n",
    "        expr_mean = [pl.mean(col).alias(f\"mean_{col}\") for col in cols]\n",
    "        expr_max = [pl.max(col).alias(f\"max_{col}\") for col in cols]\n",
    "        return expr_max + expr_mean \n",
    "\n",
    "    def date_expr(df):\n",
    "        cols = [col for col in df.columns if col[-1] in (\"D\")]\n",
    "        expr_mean = [pl.mean(col).alias(f\"mean_{col}\") for col in cols]\n",
    "        expr_max = [pl.max(col).alias(f\"max_{col}\") for col in cols]\n",
    "        \n",
    "        return expr_max + expr_mean \n",
    "\n",
    "    def str_expr(df):\n",
    "        cols = [col for col in df.columns if col[-1] in (\"M\",)]\n",
    "        expr_mean = [pl.mean(col).alias(f\"mean_{col}\") for col in cols]\n",
    "        expr_max = [pl.max(col).alias(f\"max_{col}\") for col in cols]\n",
    "        # expr_min = [pl.min(col).alias(f\"min_{col}\") for col in cols]\n",
    "        # expr_first = [pl.first(col).alias(f\"first_{col}\") for col in cols]\n",
    "        # expr_count = [pl.count(col).alias(f\"count_{col}\") for col in cols]\n",
    "        return expr_max + expr_mean\n",
    "\n",
    "    def other_expr(df):\n",
    "        cols = [col for col in df.columns if col[-1] in (\"T\", \"L\")]\n",
    "        expr_mean = [pl.mean(col).alias(f\"mean_{col}\") for col in cols]\n",
    "        expr_max = [pl.max(col).alias(f\"max_{col}\") for col in cols]\n",
    "        # expr_min = [pl.min(col).alias(f\"min_{col}\") for col in cols]\n",
    "        return expr_max + expr_mean\n",
    "\n",
    "    def count_expr(df):\n",
    "        cols = [col for col in df.columns if \"num_group\" in col]\n",
    "        expr_mean = [pl.mean(col).alias(f\"mean_{col}\") for col in cols]\n",
    "        expr_max = [pl.max(col).alias(f\"max_{col}\") for col in cols]\n",
    "        # expr_min = [pl.min(col).alias(f\"min_{col}\") for col in cols]\n",
    "        # expr_first = [pl.first(col).alias(f\"first_{col}\") for col in cols]\n",
    "        return expr_max + expr_mean\n",
    "    \n",
    "    def get_exprs(df):\n",
    "        exprs = Aggregator.num_expr(df) + \\\n",
    "                Aggregator.date_expr(df) + \\\n",
    "                Aggregator.str_expr(df) + \\\n",
    "                Aggregator.other_expr(df) + \\\n",
    "                Aggregator.count_expr(df)\n",
    "\n",
    "        return exprs\n",
    "    \n",
    "def read_file(path, depth=None):\n",
    "    df = pl.read_parquet(path)\n",
    "    df = df.pipe(Pipeline.set_table_dtypes)\n",
    "    if depth in [1,2]:\n",
    "        df = df.group_by(\"case_id\").agg(Aggregator.get_exprs(df)) \n",
    "    return df\n",
    "\n",
    "def read_files(regex_path, depth=None):\n",
    "    chunks = []\n",
    "    for path in glob(str(regex_path)):\n",
    "        df = pl.read_parquet(path)\n",
    "        df = df.pipe(Pipeline.set_table_dtypes)\n",
    "        if depth in [1, 2]:\n",
    "            df = df.group_by(\"case_id\").agg(Aggregator.get_exprs(df))\n",
    "        chunks.append(df)\n",
    "    df = pl.concat(chunks, how=\"vertical_relaxed\")\n",
    "    df = df.unique(subset=[\"case_id\"])\n",
    "    return df\n",
    "\n",
    "def feature_eng(df_base, depth_0, depth_1, depth_2):\n",
    "    df_base = (\n",
    "        df_base\n",
    "        .with_columns(\n",
    "            month_decision = pl.col(\"date_decision\").dt.month(),\n",
    "            weekday_decision = pl.col(\"date_decision\").dt.weekday(),\n",
    "        )\n",
    "    )\n",
    "    for i, df in enumerate(depth_0 + depth_1 + depth_2):\n",
    "        df_base = df_base.join(df, how=\"left\", on=\"case_id\", suffix=f\"_{i}\")\n",
    "    df_base = df_base.pipe(Pipeline.set_table_dtypes)\n",
    "    df_base = df_base.pipe(Pipeline.handle_dates)\n",
    "    return df_base\n",
    "\n",
    "def to_pandas(df_data, cat_cols=None):\n",
    "    df_data = df_data.to_pandas()\n",
    "    if cat_cols is None:\n",
    "        cat_cols = list(df_data.select_dtypes(\"object\").columns)\n",
    "    df_data[cat_cols] = df_data[cat_cols].astype(\"category\")\n",
    "    return df_data, cat_cols\n",
    "\n",
    "def reduce_mem_usage(df):\n",
    "    \"\"\" iterate through all the columns of a dataframe and modify the data type\n",
    "        to reduce memory usage.        \n",
    "    \"\"\"\n",
    "    start_mem = df.memory_usage().sum() / 1024**2\n",
    "    print('Memory usage of dataframe is {:.2f} MB'.format(start_mem))\n",
    "    \n",
    "    for col in df.columns:\n",
    "        col_type = df[col].dtype\n",
    "        if str(col_type)==\"category\":\n",
    "            continue\n",
    "        if col_type != object:\n",
    "            c_min = df[col].min()\n",
    "            c_max = df[col].max()\n",
    "            if str(col_type)[:3] == 'int':\n",
    "                if c_min > np.iinfo(np.int8).min and c_max < np.iinfo(np.int8).max:\n",
    "                    df[col] = df[col].astype(np.int8)\n",
    "                elif c_min > np.iinfo(np.int16).min and c_max < np.iinfo(np.int16).max:\n",
    "                    df[col] = df[col].astype(np.int16)\n",
    "                elif c_min > np.iinfo(np.int32).min and c_max < np.iinfo(np.int32).max:\n",
    "                    df[col] = df[col].astype(np.int32)\n",
    "                elif c_min > np.iinfo(np.int64).min and c_max < np.iinfo(np.int64).max:\n",
    "                    df[col] = df[col].astype(np.int64)  \n",
    "            else:\n",
    "                try:\n",
    "                    if c_min > np.finfo(np.float16).min and c_max < np.finfo(np.float16).max:\n",
    "                        df[col] = df[col].astype(np.float16)\n",
    "                    elif c_min > np.finfo(np.float32).min and c_max < np.finfo(np.float32).max:\n",
    "                        df[col] = df[col].astype(np.float32)\n",
    "                    else:\n",
    "                        df[col] = df[col].astype(np.float64)\n",
    "                except:\n",
    "                    continue\n",
    "        else:\n",
    "            continue\n",
    "    end_mem = df.memory_usage().sum() / 1024**2\n",
    "    print('Memory usage after optimization is: {:.2f} MB'.format(end_mem))\n",
    "    print('Decreased by {:.1f}%'.format(100 * (start_mem - end_mem) / start_mem))\n",
    "    \n",
    "    return df"
   ]
  },
  {
   "cell_type": "markdown",
   "id": "33eb5a1e",
   "metadata": {
    "papermill": {
     "duration": 0.005965,
     "end_time": "2024-05-25T08:47:37.695179",
     "exception": false,
     "start_time": "2024-05-25T08:47:37.689214",
     "status": "completed"
    },
    "tags": []
   },
   "source": [
    "## Processing functions"
   ]
  },
  {
   "cell_type": "markdown",
   "id": "c26fb350",
   "metadata": {
    "papermill": {
     "duration": 0.006091,
     "end_time": "2024-05-25T08:47:37.707404",
     "exception": false,
     "start_time": "2024-05-25T08:47:37.701313",
     "status": "completed"
    },
    "tags": []
   },
   "source": [
    "Little Testing"
   ]
  },
  {
   "cell_type": "markdown",
   "id": "e6740848",
   "metadata": {
    "papermill": {
     "duration": 0.005868,
     "end_time": "2024-05-25T08:47:37.719444",
     "exception": false,
     "start_time": "2024-05-25T08:47:37.713576",
     "status": "completed"
    },
    "tags": []
   },
   "source": [
    "## Train data"
   ]
  },
  {
   "cell_type": "code",
   "execution_count": 3,
   "id": "047eca62",
   "metadata": {
    "execution": {
     "iopub.execute_input": "2024-05-25T08:47:37.732959Z",
     "iopub.status.busy": "2024-05-25T08:47:37.732679Z",
     "iopub.status.idle": "2024-05-25T08:47:37.736480Z",
     "shell.execute_reply": "2024-05-25T08:47:37.735617Z"
    },
    "papermill": {
     "duration": 0.012756,
     "end_time": "2024-05-25T08:47:37.738414",
     "exception": false,
     "start_time": "2024-05-25T08:47:37.725658",
     "status": "completed"
    },
    "tags": []
   },
   "outputs": [],
   "source": [
    "import joblib"
   ]
  },
  {
   "cell_type": "code",
   "execution_count": 4,
   "id": "804ab6a6",
   "metadata": {
    "execution": {
     "iopub.execute_input": "2024-05-25T08:47:37.752759Z",
     "iopub.status.busy": "2024-05-25T08:47:37.752473Z",
     "iopub.status.idle": "2024-05-25T08:47:38.552095Z",
     "shell.execute_reply": "2024-05-25T08:47:38.551237Z"
    },
    "papermill": {
     "duration": 0.809551,
     "end_time": "2024-05-25T08:47:38.554210",
     "exception": false,
     "start_time": "2024-05-25T08:47:37.744659",
     "status": "completed"
    },
    "tags": []
   },
   "outputs": [
    {
     "name": "stdout",
     "output_type": "stream",
     "text": [
      "- [lgb] notebook_start_time: 2024-05-24 22:44:32.349464\n",
      "- [lgb] description: Add notebook info dict to store cols and cat_cols\n",
      "- [lgb] len(cols): 452\n",
      "- [lgb] len(cat_cols): 79\n"
     ]
    },
    {
     "data": {
      "text/plain": [
       "[LGBMClassifier(colsample_bynode=0.8, colsample_bytree=0.8, device='gpu',\n",
       "                extra_trees=True, learning_rate=0.05, max_depth=10, metric='auc',\n",
       "                n_estimators=2000, num_leaves=64, objective='binary',\n",
       "                random_state=42, reg_alpha=0.1, reg_lambda=10,\n",
       "                sample_weight='balanced', verbose=-1),\n",
       " LGBMClassifier(colsample_bynode=0.8, colsample_bytree=0.8, device='gpu',\n",
       "                extra_trees=True, learning_rate=0.05, max_depth=10, metric='auc',\n",
       "                n_estimators=2000, num_leaves=64, objective='binary',\n",
       "                random_state=42, reg_alpha=0.1, reg_lambda=10,\n",
       "                sample_weight='balanced', verbose=-1),\n",
       " LGBMClassifier(colsample_bynode=0.8, colsample_bytree=0.8, device='gpu',\n",
       "                extra_trees=True, learning_rate=0.05, max_depth=10, metric='auc',\n",
       "                n_estimators=2000, num_leaves=64, objective='binary',\n",
       "                random_state=42, reg_alpha=0.1, reg_lambda=10,\n",
       "                sample_weight='balanced', verbose=-1),\n",
       " LGBMClassifier(colsample_bynode=0.8, colsample_bytree=0.8, device='gpu',\n",
       "                extra_trees=True, learning_rate=0.05, max_depth=10, metric='auc',\n",
       "                n_estimators=2000, num_leaves=64, objective='binary',\n",
       "                random_state=42, reg_alpha=0.1, reg_lambda=10,\n",
       "                sample_weight='balanced', verbose=-1),\n",
       " LGBMClassifier(colsample_bynode=0.8, colsample_bytree=0.8, device='gpu',\n",
       "                extra_trees=True, learning_rate=0.05, max_depth=10, metric='auc',\n",
       "                n_estimators=2000, num_leaves=64, objective='binary',\n",
       "                random_state=42, reg_alpha=0.1, reg_lambda=10,\n",
       "                sample_weight='balanced', verbose=-1)]"
      ]
     },
     "execution_count": 4,
     "metadata": {},
     "output_type": "execute_result"
    }
   ],
   "source": [
    "lgb_notebook_info = joblib.load('/kaggle/input/home-credit-lgb555/notebook_info.joblib')\n",
    "print(f\"- [lgb] notebook_start_time: {lgb_notebook_info['notebook_start_time']}\")\n",
    "print(f\"- [lgb] description: {lgb_notebook_info['description']}\")\n",
    "\n",
    "cols = lgb_notebook_info['cols']\n",
    "cat_cols = lgb_notebook_info['cat_cols']\n",
    "print(f\"- [lgb] len(cols): {len(cols)}\")\n",
    "print(f\"- [lgb] len(cat_cols): {len(cat_cols)}\")\n",
    "\n",
    "lgb_models = joblib.load('/kaggle/input/home-credit-lgb555/lgb_models.joblib')\n",
    "lgb_models"
   ]
  },
  {
   "cell_type": "code",
   "execution_count": 5,
   "id": "90dc0608",
   "metadata": {
    "execution": {
     "iopub.execute_input": "2024-05-25T08:47:38.568214Z",
     "iopub.status.busy": "2024-05-25T08:47:38.567950Z",
     "iopub.status.idle": "2024-05-25T08:47:42.960938Z",
     "shell.execute_reply": "2024-05-25T08:47:42.959978Z"
    },
    "papermill": {
     "duration": 4.402325,
     "end_time": "2024-05-25T08:47:42.963054",
     "exception": false,
     "start_time": "2024-05-25T08:47:38.560729",
     "status": "completed"
    },
    "tags": []
   },
   "outputs": [
    {
     "name": "stdout",
     "output_type": "stream",
     "text": [
      "- [cat] notebook_start_time: 2024-05-25 17:33:28.027389\n",
      "- [cat] description: Add notebook info dict to store cols and cat_cols\n"
     ]
    },
    {
     "data": {
      "text/plain": [
       "[<catboost.core.CatBoostClassifier at 0x7e65c2a01090>,\n",
       " <catboost.core.CatBoostClassifier at 0x7e65c1ee31c0>,\n",
       " <catboost.core.CatBoostClassifier at 0x7e65ba8c8730>,\n",
       " <catboost.core.CatBoostClassifier at 0x7e65b8ab1c90>,\n",
       " <catboost.core.CatBoostClassifier at 0x7e65b821f1c0>]"
      ]
     },
     "execution_count": 5,
     "metadata": {},
     "output_type": "execute_result"
    }
   ],
   "source": [
    "cat_notebook_info = joblib.load('/kaggle/input/home-credit-cat555/notebook_info.joblib')\n",
    "print(f\"- [cat] notebook_start_time: {cat_notebook_info['notebook_start_time']}\")\n",
    "print(f\"- [cat] description: {cat_notebook_info['description']}\")\n",
    "\n",
    "cat_models = joblib.load('/kaggle/input/home-credit-cat555/cat_models.joblib')\n",
    "cat_models"
   ]
  },
  {
   "cell_type": "code",
   "execution_count": 6,
   "id": "2850ad84",
   "metadata": {
    "execution": {
     "iopub.execute_input": "2024-05-25T08:47:42.978213Z",
     "iopub.status.busy": "2024-05-25T08:47:42.977891Z",
     "iopub.status.idle": "2024-05-25T08:47:43.422712Z",
     "shell.execute_reply": "2024-05-25T08:47:43.421704Z"
    },
    "papermill": {
     "duration": 0.455296,
     "end_time": "2024-05-25T08:47:43.425258",
     "exception": false,
     "start_time": "2024-05-25T08:47:42.969962",
     "status": "completed"
    },
    "tags": []
   },
   "outputs": [],
   "source": [
    "ROOT            = Path(\"/kaggle/input/home-credit-credit-risk-model-stability\")\n",
    "\n",
    "TEST_DIR        = ROOT / \"parquet_files\" / \"test\"\n",
    "\n",
    "data_store = {\n",
    "    \"df_base\": read_file(TEST_DIR / \"test_base.parquet\"),\n",
    "    \"depth_0\": [\n",
    "        read_file(TEST_DIR / \"test_static_cb_0.parquet\"),\n",
    "        read_files(TEST_DIR / \"test_static_0_*.parquet\"),\n",
    "    ],\n",
    "    \"depth_1\": [\n",
    "        read_files(TEST_DIR / \"test_applprev_1_*.parquet\", 1),\n",
    "        read_file(TEST_DIR / \"test_tax_registry_a_1.parquet\", 1),\n",
    "        read_file(TEST_DIR / \"test_tax_registry_b_1.parquet\", 1),\n",
    "        read_file(TEST_DIR / \"test_tax_registry_c_1.parquet\", 1),\n",
    "        read_files(TEST_DIR / \"test_credit_bureau_a_1_*.parquet\", 1),\n",
    "        read_file(TEST_DIR / \"test_credit_bureau_b_1.parquet\", 1),\n",
    "        read_file(TEST_DIR / \"test_other_1.parquet\", 1),\n",
    "        read_file(TEST_DIR / \"test_person_1.parquet\", 1),\n",
    "        read_file(TEST_DIR / \"test_deposit_1.parquet\", 1),\n",
    "        read_file(TEST_DIR / \"test_debitcard_1.parquet\", 1),\n",
    "    ],\n",
    "    \"depth_2\": [\n",
    "        read_file(TEST_DIR / \"test_credit_bureau_b_2.parquet\", 2),\n",
    "        read_files(TEST_DIR / \"test_credit_bureau_a_2_*.parquet\", 2),\n",
    "        read_file(TEST_DIR / \"test_applprev_2.parquet\", 2),\n",
    "        read_file(TEST_DIR / \"test_person_2.parquet\", 2)\n",
    "    ]\n",
    "}"
   ]
  },
  {
   "cell_type": "code",
   "execution_count": 7,
   "id": "59afe7ca",
   "metadata": {
    "execution": {
     "iopub.execute_input": "2024-05-25T08:47:43.441202Z",
     "iopub.status.busy": "2024-05-25T08:47:43.440590Z",
     "iopub.status.idle": "2024-05-25T08:47:43.724194Z",
     "shell.execute_reply": "2024-05-25T08:47:43.723208Z"
    },
    "papermill": {
     "duration": 0.293752,
     "end_time": "2024-05-25T08:47:43.726111",
     "exception": false,
     "start_time": "2024-05-25T08:47:43.432359",
     "status": "completed"
    },
    "tags": []
   },
   "outputs": [
    {
     "name": "stdout",
     "output_type": "stream",
     "text": [
      "test data shape:\t (10, 750)\n"
     ]
    },
    {
     "data": {
      "text/plain": [
       "0"
      ]
     },
     "execution_count": 7,
     "metadata": {},
     "output_type": "execute_result"
    }
   ],
   "source": [
    "df_test = feature_eng(**data_store)\n",
    "print(\"test data shape:\\t\", df_test.shape)\n",
    "del data_store\n",
    "gc.collect()\n"
   ]
  },
  {
   "cell_type": "code",
   "execution_count": 8,
   "id": "c0c15159",
   "metadata": {
    "execution": {
     "iopub.execute_input": "2024-05-25T08:47:43.740749Z",
     "iopub.status.busy": "2024-05-25T08:47:43.740294Z",
     "iopub.status.idle": "2024-05-25T08:47:43.919456Z",
     "shell.execute_reply": "2024-05-25T08:47:43.918698Z"
    },
    "papermill": {
     "duration": 0.18892,
     "end_time": "2024-05-25T08:47:43.921718",
     "exception": false,
     "start_time": "2024-05-25T08:47:43.732798",
     "status": "completed"
    },
    "tags": []
   },
   "outputs": [],
   "source": [
    "cnt_encoding_cols = df_test.select(pl.selectors.by_dtype([pl.String, pl.Boolean, pl.Categorical])).columns\n",
    "\n",
    "mappings = {}\n",
    "for col in cnt_encoding_cols:\n",
    "    mappings[col] = df_test.group_by(col).len()\n",
    "\n",
    "df_test_lazy = df_test.select(mappings.keys()).lazy()\n",
    "# df_test_lazy = pl.LazyFrame(df_test.select('case_id'))\n",
    "\n",
    "for col, mapping in mappings.items():\n",
    "    remapping = {category: count for category, count in mapping.rows()}\n",
    "    remapping[None] = -2\n",
    "    expr = pl.col(col).replace(\n",
    "                remapping,\n",
    "                default=-1,\n",
    "            )\n",
    "    df_test_lazy = df_test_lazy.with_columns(expr.alias(col + '_cnt'))\n",
    "    del col, mapping, remapping\n",
    "del mappings\n",
    "transformed_test = df_test_lazy.collect()\n",
    "\n",
    "df_test = pl.concat([df_test, transformed_test.select(\"^*cnt$\")], how='horizontal')\n",
    "del transformed_test, cnt_encoding_cols"
   ]
  },
  {
   "cell_type": "code",
   "execution_count": 9,
   "id": "e902494f",
   "metadata": {
    "execution": {
     "iopub.execute_input": "2024-05-25T08:47:43.936392Z",
     "iopub.status.busy": "2024-05-25T08:47:43.936102Z",
     "iopub.status.idle": "2024-05-25T08:47:43.978449Z",
     "shell.execute_reply": "2024-05-25T08:47:43.977586Z"
    },
    "papermill": {
     "duration": 0.052466,
     "end_time": "2024-05-25T08:47:43.980966",
     "exception": false,
     "start_time": "2024-05-25T08:47:43.928500",
     "status": "completed"
    },
    "tags": []
   },
   "outputs": [
    {
     "name": "stdout",
     "output_type": "stream",
     "text": [
      "['case_id', 'MONTH', 'WEEK_NUM', 'month_decision', 'weekday_decision', 'assignmentdate_238D', 'assignmentdate_4527235D', 'assignmentdate_4955616D', 'birthdate_574D', 'contractssum_5085716L', 'dateofbirth_337D', 'dateofbirth_342D', 'days120_123L', 'days180_256L', 'days30_165L', 'days360_512L', 'days90_310L', 'description_5085714M', 'education_1103M', 'education_88M', 'firstquarter_103L', 'for3years_128L', 'for3years_504L', 'for3years_584L', 'formonth_118L', 'formonth_206L', 'formonth_535L', 'forquarter_1017L', 'forquarter_462L', 'forquarter_634L', 'fortoday_1092L', 'forweek_1077L', 'forweek_528L', 'forweek_601L', 'foryear_618L', 'foryear_818L', 'foryear_850L', 'fourthquarter_440L', 'maritalst_385M', 'maritalst_893M', 'numberofqueries_373L', 'pmtaverage_3A', 'pmtaverage_4527227A', 'pmtaverage_4955615A', 'pmtcount_4527229L', 'pmtcount_4955617L', 'pmtcount_693L', 'pmtscount_423L', 'pmtssum_45A', 'requesttype_4525192L', 'responsedate_1012D', 'responsedate_4527233D', 'responsedate_4917613D', 'riskassesment_302T', 'riskassesment_940T', 'secondquarter_766L', 'thirdquarter_1082L', 'actualdpdtolerance_344P', 'amtinstpaidbefduel24m_4187115A', 'annuity_780A', 'annuitynextmonth_57A', 'applicationcnt_361L', 'applications30d_658L', 'applicationscnt_1086L', 'applicationscnt_464L', 'applicationscnt_629L', 'applicationscnt_867L', 'avgdbddpdlast24m_3658932P', 'avgdbddpdlast3m_4187120P', 'avgdbdtollast24m_4525197P', 'avgdpdtolclosure24_3658938P', 'avginstallast24m_3658937A', 'avglnamtstart24m_4525187A', 'avgmaxdpdlast9m_3716943P', 'avgoutstandbalancel6m_4187114A', 'avgpmtlast12m_4525200A', 'bankacctype_710L', 'cardtype_51L', 'clientscnt12m_3712952L', 'clientscnt3m_3712950L', 'clientscnt6m_3712949L', 'clientscnt_100L', 'clientscnt_1022L', 'clientscnt_1071L', 'clientscnt_1130L', 'clientscnt_136L', 'clientscnt_157L', 'clientscnt_257L', 'clientscnt_304L', 'clientscnt_360L', 'clientscnt_493L', 'clientscnt_533L', 'clientscnt_887L', 'clientscnt_946L', 'cntincpaycont9m_3716944L', 'cntpmts24_3658933L', 'commnoinclast6m_3546845L', 'credamount_770A', 'credtype_322L', 'currdebt_22A', 'currdebtcredtyperange_828A', 'datefirstoffer_1144D', 'datelastinstal40dpd_247D', 'datelastunpaid_3546854D', 'daysoverduetolerancedd_3976961L', 'deferredmnthsnum_166L', 'disbursedcredamount_1113A', 'disbursementtype_67L', 'downpmt_116A', 'dtlastpmtallstes_4499206D', 'eir_270L', 'equalitydataagreement_891L', 'equalityempfrom_62L', 'firstclxcampaign_1125D', 'firstdatedue_489D', 'homephncnt_628L', 'inittransactionamount_650A', 'inittransactioncode_186L', 'interestrate_311L', 'interestrategrace_34L', 'isbidproduct_1095L', 'isbidproductrequest_292L', 'isdebitcard_729L', 'lastactivateddate_801D', 'lastapplicationdate_877D', 'lastapprcommoditycat_1041M', 'lastapprcommoditytypec_5251766M', 'lastapprcredamount_781A', 'lastapprdate_640D', 'lastcancelreason_561M', 'lastdelinqdate_224D', 'lastdependentsnum_448L', 'lastotherinc_902A', 'lastotherlnsexpense_631A', 'lastrejectcommoditycat_161M', 'lastrejectcommodtypec_5251769M', 'lastrejectcredamount_222A', 'lastrejectdate_50D', 'lastrejectreason_759M', 'lastrejectreasonclient_4145040M', 'lastrepayingdate_696D', 'lastst_736L', 'maininc_215A', 'mastercontrelectronic_519L', 'mastercontrexist_109L', 'maxannuity_159A', 'maxannuity_4075009A', 'maxdbddpdlast1m_3658939P', 'maxdbddpdtollast12m_3658940P', 'maxdbddpdtollast6m_4187119P', 'maxdebt4_972A', 'maxdpdfrom6mto36m_3546853P', 'maxdpdinstldate_3546855D', 'maxdpdinstlnum_3546846P', 'maxdpdlast12m_727P', 'maxdpdlast24m_143P', 'maxdpdlast3m_392P', 'maxdpdlast6m_474P', 'maxdpdlast9m_1059P', 'maxdpdtolerance_374P', 'maxinstallast24m_3658928A', 'maxlnamtstart6m_4525199A', 'maxoutstandbalancel12m_4187113A', 'maxpmtlast3m_4525190A', 'mindbddpdlast24m_3658935P', 'mindbdtollast24m_4525191P', 'mobilephncnt_593L', 'monthsannuity_845L', 'numactivecreds_622L', 'numactivecredschannel_414L', 'numactiverelcontr_750L', 'numcontrs3months_479L', 'numincomingpmts_3546848L', 'numinstlallpaidearly3d_817L', 'numinstls_657L', 'numinstlsallpaid_934L', 'numinstlswithdpd10_728L', 'numinstlswithdpd5_4187116L', 'numinstlswithoutdpd_562L', 'numinstmatpaidtearly2d_4499204L', 'numinstpaid_4499208L', 'numinstpaidearly3d_3546850L', 'numinstpaidearly3dest_4493216L', 'numinstpaidearly5d_1087L', 'numinstpaidearly5dest_4493211L', 'numinstpaidearly5dobd_4499205L', 'numinstpaidearly_338L', 'numinstpaidearlyest_4493214L', 'numinstpaidlastcontr_4325080L', 'numinstpaidlate1d_3546852L', 'numinstregularpaid_973L', 'numinstregularpaidest_4493210L', 'numinsttopaygr_769L', 'numinsttopaygrest_4493213L', 'numinstunpaidmax_3546851L', 'numinstunpaidmaxest_4493212L', 'numnotactivated_1143L', 'numpmtchanneldd_318L', 'numrejects9m_859L', 'opencred_647L', 'paytype1st_925L', 'paytype_783L', 'payvacationpostpone_4187118D', 'pctinstlsallpaidearl3d_427L', 'pctinstlsallpaidlat10d_839L', 'pctinstlsallpaidlate1d_3546856L', 'pctinstlsallpaidlate4d_3546849L', 'pctinstlsallpaidlate6d_3546844L', 'pmtnum_254L', 'posfpd10lastmonth_333P', 'posfpd30lastmonth_3976960P', 'posfstqpd30lastmonth_3976962P', 'previouscontdistrict_112M', 'price_1097A', 'sellerplacecnt_915L', 'sellerplacescnt_216L', 'sumoutstandtotal_3546847A', 'sumoutstandtotalest_4493215A', 'totaldebt_9A', 'totalsettled_863A', 'totinstallast1m_4525188A', 'twobodfilling_608L', 'typesuite_864L', 'validfrom_1069D', 'max_actualdpd_943P', 'max_annuity_853A', 'max_credacc_actualbalance_314A', 'max_credacc_credlmt_575A', 'max_credacc_maxhisbal_375A', 'max_credacc_minhisbal_90A', 'max_credamount_590A', 'max_currdebt_94A', 'max_downpmt_134A', 'max_mainoccupationinc_437A', 'max_maxdpdtolerance_577P', 'max_outstandingdebt_522A', 'max_revolvingaccount_394A', 'mean_actualdpd_943P', 'mean_annuity_853A', 'mean_credacc_actualbalance_314A', 'mean_credacc_credlmt_575A', 'mean_credacc_maxhisbal_375A', 'mean_credacc_minhisbal_90A', 'mean_credamount_590A', 'mean_currdebt_94A', 'mean_downpmt_134A', 'mean_mainoccupationinc_437A', 'mean_maxdpdtolerance_577P', 'mean_outstandingdebt_522A', 'mean_revolvingaccount_394A', 'max_approvaldate_319D', 'max_creationdate_885D', 'max_dateactivated_425D', 'max_dtlastpmt_581D', 'max_dtlastpmtallstes_3545839D', 'max_employedfrom_700D', 'max_firstnonzeroinstldate_307D', 'mean_approvaldate_319D', 'mean_creationdate_885D', 'mean_dateactivated_425D', 'mean_dtlastpmt_581D', 'mean_dtlastpmtallstes_3545839D', 'mean_employedfrom_700D', 'mean_firstnonzeroinstldate_307D', 'max_cancelreason_3545846M', 'max_district_544M', 'max_education_1138M', 'max_postype_4733339M', 'max_profession_152M', 'max_rejectreason_755M', 'max_rejectreasonclient_4145042M', 'mean_cancelreason_3545846M', 'mean_district_544M', 'mean_education_1138M', 'mean_postype_4733339M', 'mean_profession_152M', 'mean_rejectreason_755M', 'mean_rejectreasonclient_4145042M', 'max_byoccupationinc_3656910L', 'max_childnum_21L', 'max_credacc_status_367L', 'max_credacc_transactions_402L', 'max_credtype_587L', 'max_familystate_726L', 'max_inittransactioncode_279L', 'max_isbidproduct_390L', 'max_isdebitcard_527L', 'max_pmtnum_8L', 'max_status_219L', 'max_tenor_203L', 'mean_byoccupationinc_3656910L', 'mean_childnum_21L', 'mean_credacc_status_367L', 'mean_credacc_transactions_402L', 'mean_credtype_587L', 'mean_familystate_726L', 'mean_inittransactioncode_279L', 'mean_isbidproduct_390L', 'mean_isdebitcard_527L', 'mean_pmtnum_8L', 'mean_status_219L', 'mean_tenor_203L', 'max_num_group1', 'mean_num_group1', 'max_amount_4527230A', 'mean_amount_4527230A', 'max_recorddate_4527225D', 'mean_recorddate_4527225D', 'max_name_4527232M', 'mean_name_4527232M', 'max_num_group1_3', 'mean_num_group1_3', 'max_amount_4917619A', 'mean_amount_4917619A', 'max_deductiondate_4917603D', 'mean_deductiondate_4917603D', 'max_name_4917606M', 'mean_name_4917606M', 'max_num_group1_4', 'mean_num_group1_4', 'max_pmtamount_36A', 'mean_pmtamount_36A', 'max_processingdate_168D', 'mean_processingdate_168D', 'max_employername_160M', 'mean_employername_160M', 'max_num_group1_5', 'mean_num_group1_5', 'max_credlmt_230A', 'max_credlmt_935A', 'max_debtoutstand_525A', 'max_debtoverdue_47A', 'max_dpdmax_139P', 'max_dpdmax_757P', 'max_instlamount_768A', 'max_instlamount_852A', 'max_monthlyinstlamount_332A', 'max_monthlyinstlamount_674A', 'max_outstandingamount_354A', 'max_outstandingamount_362A', 'max_overdueamount_31A', 'max_overdueamount_659A', 'max_overdueamountmax2_14A', 'max_overdueamountmax2_398A', 'max_overdueamountmax_155A', 'max_overdueamountmax_35A', 'max_residualamount_488A', 'max_residualamount_856A', 'max_totalamount_6A', 'max_totalamount_996A', 'max_totaldebtoverduevalue_178A', 'max_totaldebtoverduevalue_718A', 'max_totaloutstanddebtvalue_39A', 'max_totaloutstanddebtvalue_668A', 'mean_credlmt_230A', 'mean_credlmt_935A', 'mean_debtoutstand_525A', 'mean_debtoverdue_47A', 'mean_dpdmax_139P', 'mean_dpdmax_757P', 'mean_instlamount_768A', 'mean_instlamount_852A', 'mean_monthlyinstlamount_332A', 'mean_monthlyinstlamount_674A', 'mean_outstandingamount_354A', 'mean_outstandingamount_362A', 'mean_overdueamount_31A', 'mean_overdueamount_659A', 'mean_overdueamountmax2_14A', 'mean_overdueamountmax2_398A', 'mean_overdueamountmax_155A', 'mean_overdueamountmax_35A', 'mean_residualamount_488A', 'mean_residualamount_856A', 'mean_totalamount_6A', 'mean_totalamount_996A', 'mean_totaldebtoverduevalue_178A', 'mean_totaldebtoverduevalue_718A', 'mean_totaloutstanddebtvalue_39A', 'mean_totaloutstanddebtvalue_668A', 'max_dateofcredend_289D', 'max_dateofcredend_353D', 'max_dateofcredstart_181D', 'max_dateofcredstart_739D', 'max_dateofrealrepmt_138D', 'max_lastupdate_1112D', 'max_lastupdate_388D', 'max_numberofoverdueinstlmaxdat_148D', 'max_numberofoverdueinstlmaxdat_641D', 'max_overdueamountmax2date_1002D', 'max_overdueamountmax2date_1142D', 'max_refreshdate_3813885D', 'mean_dateofcredend_289D', 'mean_dateofcredend_353D', 'mean_dateofcredstart_181D', 'mean_dateofcredstart_739D', 'mean_dateofrealrepmt_138D', 'mean_lastupdate_1112D', 'mean_lastupdate_388D', 'mean_numberofoverdueinstlmaxdat_148D', 'mean_numberofoverdueinstlmaxdat_641D', 'mean_overdueamountmax2date_1002D', 'mean_overdueamountmax2date_1142D', 'mean_refreshdate_3813885D', 'max_classificationofcontr_13M', 'max_classificationofcontr_400M', 'max_contractst_545M', 'max_contractst_964M', 'max_description_351M', 'max_financialinstitution_382M', 'max_financialinstitution_591M', 'max_purposeofcred_426M', 'max_purposeofcred_874M', 'max_subjectrole_182M', 'max_subjectrole_93M', 'mean_classificationofcontr_13M', 'mean_classificationofcontr_400M', 'mean_contractst_545M', 'mean_contractst_964M', 'mean_description_351M', 'mean_financialinstitution_382M', 'mean_financialinstitution_591M', 'mean_purposeofcred_426M', 'mean_purposeofcred_874M', 'mean_subjectrole_182M', 'mean_subjectrole_93M', 'max_annualeffectiverate_199L', 'max_annualeffectiverate_63L', 'max_contractsum_5085717L', 'max_dpdmaxdatemonth_442T', 'max_dpdmaxdatemonth_89T', 'max_dpdmaxdateyear_596T', 'max_dpdmaxdateyear_896T', 'max_interestrate_508L', 'max_nominalrate_281L', 'max_nominalrate_498L', 'max_numberofcontrsvalue_258L', 'max_numberofcontrsvalue_358L', 'max_numberofinstls_229L', 'max_numberofinstls_320L', 'max_numberofoutstandinstls_520L', 'max_numberofoutstandinstls_59L', 'max_numberofoverdueinstlmax_1039L', 'max_numberofoverdueinstlmax_1151L', 'max_numberofoverdueinstls_725L', 'max_numberofoverdueinstls_834L', 'max_overdueamountmaxdatemonth_284T', 'max_overdueamountmaxdatemonth_365T', 'max_overdueamountmaxdateyear_2T', 'max_overdueamountmaxdateyear_994T', 'max_periodicityofpmts_1102L', 'max_periodicityofpmts_837L', 'max_prolongationcount_1120L', 'max_prolongationcount_599L', 'mean_annualeffectiverate_199L', 'mean_annualeffectiverate_63L', 'mean_contractsum_5085717L', 'mean_dpdmaxdatemonth_442T', 'mean_dpdmaxdatemonth_89T', 'mean_dpdmaxdateyear_596T', 'mean_dpdmaxdateyear_896T', 'mean_interestrate_508L', 'mean_nominalrate_281L', 'mean_nominalrate_498L', 'mean_numberofcontrsvalue_258L', 'mean_numberofcontrsvalue_358L', 'mean_numberofinstls_229L', 'mean_numberofinstls_320L', 'mean_numberofoutstandinstls_520L', 'mean_numberofoutstandinstls_59L', 'mean_numberofoverdueinstlmax_1039L', 'mean_numberofoverdueinstlmax_1151L', 'mean_numberofoverdueinstls_725L', 'mean_numberofoverdueinstls_834L', 'mean_overdueamountmaxdatemonth_284T', 'mean_overdueamountmaxdatemonth_365T', 'mean_overdueamountmaxdateyear_2T', 'mean_overdueamountmaxdateyear_994T', 'mean_periodicityofpmts_1102L', 'mean_periodicityofpmts_837L', 'mean_prolongationcount_1120L', 'mean_prolongationcount_599L', 'max_num_group1_6', 'mean_num_group1_6', 'max_amount_1115A', 'max_credlmt_1052A', 'max_credlmt_228A', 'max_credlmt_3940954A', 'max_debtpastduevalue_732A', 'max_debtvalue_227A', 'max_dpd_550P', 'max_dpd_733P', 'max_dpdmax_851P', 'max_installmentamount_644A', 'max_installmentamount_833A', 'max_instlamount_892A', 'max_maxdebtpduevalodued_3940955A', 'max_overdueamountmax_950A', 'max_pmtdaysoverdue_1135P', 'max_residualamount_1093A', 'max_residualamount_127A', 'max_residualamount_3940956A', 'max_totalamount_503A', 'max_totalamount_881A', 'mean_amount_1115A', 'mean_credlmt_1052A', 'mean_credlmt_228A', 'mean_credlmt_3940954A', 'mean_debtpastduevalue_732A', 'mean_debtvalue_227A', 'mean_dpd_550P', 'mean_dpd_733P', 'mean_dpdmax_851P', 'mean_installmentamount_644A', 'mean_installmentamount_833A', 'mean_instlamount_892A', 'mean_maxdebtpduevalodued_3940955A', 'mean_overdueamountmax_950A', 'mean_pmtdaysoverdue_1135P', 'mean_residualamount_1093A', 'mean_residualamount_127A', 'mean_residualamount_3940956A', 'mean_totalamount_503A', 'mean_totalamount_881A', 'max_contractdate_551D', 'max_contractmaturitydate_151D', 'max_lastupdate_260D', 'mean_contractdate_551D', 'mean_contractmaturitydate_151D', 'mean_lastupdate_260D', 'max_classificationofcontr_1114M', 'max_contractst_516M', 'max_contracttype_653M', 'max_credor_3940957M', 'max_periodicityofpmts_997M', 'max_pmtmethod_731M', 'max_purposeofcred_722M', 'max_subjectrole_326M', 'max_subjectrole_43M', 'mean_classificationofcontr_1114M', 'mean_contractst_516M', 'mean_contracttype_653M', 'mean_credor_3940957M', 'mean_periodicityofpmts_997M', 'mean_pmtmethod_731M', 'mean_purposeofcred_722M', 'mean_subjectrole_326M', 'mean_subjectrole_43M', 'max_credquantity_1099L', 'max_credquantity_984L', 'max_dpdmaxdatemonth_804T', 'max_dpdmaxdateyear_742T', 'max_interesteffectiverate_369L', 'max_interestrateyearly_538L', 'max_numberofinstls_810L', 'max_overdueamountmaxdatemonth_494T', 'max_overdueamountmaxdateyear_432T', 'max_periodicityofpmts_997L', 'max_pmtnumpending_403L', 'mean_credquantity_1099L', 'mean_credquantity_984L', 'mean_dpdmaxdatemonth_804T', 'mean_dpdmaxdateyear_742T', 'mean_interesteffectiverate_369L', 'mean_interestrateyearly_538L', 'mean_numberofinstls_810L', 'mean_overdueamountmaxdatemonth_494T', 'mean_overdueamountmaxdateyear_432T', 'mean_periodicityofpmts_997L', 'mean_pmtnumpending_403L', 'max_num_group1_7', 'mean_num_group1_7', 'max_amtdebitincoming_4809443A', 'max_amtdebitoutgoing_4809440A', 'max_amtdepositbalance_4809441A', 'max_amtdepositincoming_4809444A', 'max_amtdepositoutgoing_4809442A', 'mean_amtdebitincoming_4809443A', 'mean_amtdebitoutgoing_4809440A', 'mean_amtdepositbalance_4809441A', 'mean_amtdepositincoming_4809444A', 'mean_amtdepositoutgoing_4809442A', 'max_num_group1_8', 'mean_num_group1_8', 'max_mainoccupationinc_384A', 'mean_mainoccupationinc_384A', 'max_birth_259D', 'max_birthdate_87D', 'max_empl_employedfrom_271D', 'mean_birth_259D', 'mean_birthdate_87D', 'mean_empl_employedfrom_271D', 'max_contaddr_district_15M', 'max_contaddr_zipcode_807M', 'max_education_927M', 'max_empladdr_district_926M', 'max_empladdr_zipcode_114M', 'max_language1_981M', 'max_registaddr_district_1083M', 'max_registaddr_zipcode_184M', 'mean_contaddr_district_15M', 'mean_contaddr_zipcode_807M', 'mean_education_927M', 'mean_empladdr_district_926M', 'mean_empladdr_zipcode_114M', 'mean_language1_981M', 'mean_registaddr_district_1083M', 'mean_registaddr_zipcode_184M', 'max_childnum_185L', 'max_contaddr_matchlist_1032L', 'max_contaddr_smempladdr_334L', 'max_empl_employedtotal_800L', 'max_empl_industry_691L', 'max_familystate_447L', 'max_gender_992L', 'max_housetype_905L', 'max_housingtype_772L', 'max_incometype_1044T', 'max_isreference_387L', 'max_maritalst_703L', 'max_personindex_1023L', 'max_persontype_1072L', 'max_persontype_792L', 'max_relationshiptoclient_415T', 'max_relationshiptoclient_642T', 'max_remitter_829L', 'max_role_1084L', 'max_role_993L', 'max_safeguarantyflag_411L', 'max_sex_738L', 'max_type_25L', 'mean_childnum_185L', 'mean_contaddr_matchlist_1032L', 'mean_contaddr_smempladdr_334L', 'mean_empl_employedtotal_800L', 'mean_empl_industry_691L', 'mean_familystate_447L', 'mean_gender_992L', 'mean_housetype_905L', 'mean_housingtype_772L', 'mean_incometype_1044T', 'mean_isreference_387L', 'mean_maritalst_703L', 'mean_personindex_1023L', 'mean_persontype_1072L', 'mean_persontype_792L', 'mean_relationshiptoclient_415T', 'mean_relationshiptoclient_642T', 'mean_remitter_829L', 'mean_role_1084L', 'mean_role_993L', 'mean_safeguarantyflag_411L', 'mean_sex_738L', 'mean_type_25L', 'max_num_group1_9', 'mean_num_group1_9', 'max_amount_416A', 'mean_amount_416A', 'max_contractenddate_991D', 'max_openingdate_313D', 'mean_contractenddate_991D', 'mean_openingdate_313D', 'max_num_group1_10', 'mean_num_group1_10', 'max_last180dayaveragebalance_704A', 'max_last180dayturnover_1134A', 'max_last30dayturnover_651A', 'mean_last180dayaveragebalance_704A', 'mean_last180dayturnover_1134A', 'mean_last30dayturnover_651A', 'max_openingdate_857D', 'mean_openingdate_857D', 'max_num_group1_11', 'mean_num_group1_11', 'max_pmts_dpdvalue_108P', 'max_pmts_pmtsoverdue_635A', 'mean_pmts_dpdvalue_108P', 'mean_pmts_pmtsoverdue_635A', 'max_pmts_date_1107D', 'mean_pmts_date_1107D', 'max_num_group1_12', 'max_num_group2', 'mean_num_group1_12', 'mean_num_group2', 'max_pmts_dpd_1073P', 'max_pmts_dpd_303P', 'max_pmts_overdue_1140A', 'max_pmts_overdue_1152A', 'mean_pmts_dpd_1073P', 'mean_pmts_dpd_303P', 'mean_pmts_overdue_1140A', 'mean_pmts_overdue_1152A', 'max_collater_typofvalofguarant_298M', 'max_collater_typofvalofguarant_407M', 'max_collaterals_typeofguarante_359M', 'max_collaterals_typeofguarante_669M', 'max_subjectroles_name_541M', 'max_subjectroles_name_838M', 'mean_collater_typofvalofguarant_298M', 'mean_collater_typofvalofguarant_407M', 'mean_collaterals_typeofguarante_359M', 'mean_collaterals_typeofguarante_669M', 'mean_subjectroles_name_541M', 'mean_subjectroles_name_838M', 'max_collater_valueofguarantee_1124L', 'max_collater_valueofguarantee_876L', 'max_pmts_month_158T', 'max_pmts_month_706T', 'max_pmts_year_1139T', 'max_pmts_year_507T', 'mean_collater_valueofguarantee_1124L', 'mean_collater_valueofguarantee_876L', 'mean_pmts_month_158T', 'mean_pmts_month_706T', 'mean_pmts_year_1139T', 'mean_pmts_year_507T', 'max_num_group1_13', 'max_num_group2_13', 'mean_num_group1_13', 'mean_num_group2_13', 'max_cacccardblochreas_147M', 'mean_cacccardblochreas_147M', 'max_conts_type_509L', 'max_credacc_cards_status_52L', 'mean_conts_type_509L', 'mean_credacc_cards_status_52L', 'max_num_group1_14', 'max_num_group2_14', 'mean_num_group1_14', 'mean_num_group2_14', 'max_empls_employedfrom_796D', 'mean_empls_employedfrom_796D', 'max_addres_district_368M', 'max_addres_zip_823M', 'max_conts_role_79M', 'max_empls_economicalst_849M', 'max_empls_employer_name_740M', 'mean_addres_district_368M', 'mean_addres_zip_823M', 'mean_conts_role_79M', 'mean_empls_economicalst_849M', 'mean_empls_employer_name_740M', 'max_addres_role_871L', 'max_relatedpersons_role_762T', 'mean_addres_role_871L', 'mean_relatedpersons_role_762T', 'max_num_group1_15', 'max_num_group2_15', 'mean_num_group1_15', 'mean_num_group2_15', 'description_5085714M_cnt', 'education_1103M_cnt', 'education_88M_cnt', 'maritalst_385M_cnt', 'maritalst_893M_cnt', 'bankacctype_710L_cnt', 'cardtype_51L_cnt', 'credtype_322L_cnt', 'disbursementtype_67L_cnt', 'equalitydataagreement_891L_cnt', 'inittransactioncode_186L_cnt', 'isbidproduct_1095L_cnt', 'isbidproductrequest_292L_cnt', 'isdebitcard_729L_cnt', 'lastapprcommoditycat_1041M_cnt', 'lastapprcommoditytypec_5251766M_cnt', 'lastcancelreason_561M_cnt', 'lastrejectcommoditycat_161M_cnt', 'lastrejectcommodtypec_5251769M_cnt', 'lastrejectreason_759M_cnt', 'lastrejectreasonclient_4145040M_cnt', 'lastst_736L_cnt', 'opencred_647L_cnt', 'paytype1st_925L_cnt', 'paytype_783L_cnt', 'previouscontdistrict_112M_cnt', 'twobodfilling_608L_cnt', 'typesuite_864L_cnt', 'max_cancelreason_3545846M_cnt', 'max_district_544M_cnt', 'max_education_1138M_cnt', 'max_postype_4733339M_cnt', 'max_profession_152M_cnt', 'max_rejectreason_755M_cnt', 'max_rejectreasonclient_4145042M_cnt', 'mean_cancelreason_3545846M_cnt', 'mean_district_544M_cnt', 'mean_education_1138M_cnt', 'mean_postype_4733339M_cnt', 'mean_profession_152M_cnt', 'mean_rejectreason_755M_cnt', 'mean_rejectreasonclient_4145042M_cnt', 'max_credacc_status_367L_cnt', 'max_credtype_587L_cnt', 'max_familystate_726L_cnt', 'max_inittransactioncode_279L_cnt', 'max_isbidproduct_390L_cnt', 'max_isdebitcard_527L_cnt', 'max_status_219L_cnt', 'mean_credacc_status_367L_cnt', 'mean_credtype_587L_cnt', 'mean_familystate_726L_cnt', 'mean_inittransactioncode_279L_cnt', 'mean_status_219L_cnt', 'max_name_4527232M_cnt', 'mean_name_4527232M_cnt', 'max_name_4917606M_cnt', 'mean_name_4917606M_cnt', 'max_employername_160M_cnt', 'mean_employername_160M_cnt', 'max_classificationofcontr_13M_cnt', 'max_classificationofcontr_400M_cnt', 'max_contractst_545M_cnt', 'max_contractst_964M_cnt', 'max_description_351M_cnt', 'max_financialinstitution_382M_cnt', 'max_financialinstitution_591M_cnt', 'max_purposeofcred_426M_cnt', 'max_purposeofcred_874M_cnt', 'max_subjectrole_182M_cnt', 'max_subjectrole_93M_cnt', 'mean_classificationofcontr_13M_cnt', 'mean_classificationofcontr_400M_cnt', 'mean_contractst_545M_cnt', 'mean_contractst_964M_cnt', 'mean_description_351M_cnt', 'mean_financialinstitution_382M_cnt', 'mean_financialinstitution_591M_cnt', 'mean_purposeofcred_426M_cnt', 'mean_purposeofcred_874M_cnt', 'mean_subjectrole_182M_cnt', 'mean_subjectrole_93M_cnt', 'max_classificationofcontr_1114M_cnt', 'max_contractst_516M_cnt', 'max_contracttype_653M_cnt', 'max_credor_3940957M_cnt', 'max_periodicityofpmts_997M_cnt', 'max_pmtmethod_731M_cnt', 'max_purposeofcred_722M_cnt', 'max_subjectrole_326M_cnt', 'max_subjectrole_43M_cnt', 'mean_classificationofcontr_1114M_cnt', 'mean_contractst_516M_cnt', 'mean_contracttype_653M_cnt', 'mean_credor_3940957M_cnt', 'mean_periodicityofpmts_997M_cnt', 'mean_pmtmethod_731M_cnt', 'mean_purposeofcred_722M_cnt', 'mean_subjectrole_326M_cnt', 'mean_subjectrole_43M_cnt', 'max_contaddr_district_15M_cnt', 'max_contaddr_zipcode_807M_cnt', 'max_education_927M_cnt', 'max_empladdr_district_926M_cnt', 'max_empladdr_zipcode_114M_cnt', 'max_language1_981M_cnt', 'max_registaddr_district_1083M_cnt', 'max_registaddr_zipcode_184M_cnt', 'mean_contaddr_district_15M_cnt', 'mean_contaddr_zipcode_807M_cnt', 'mean_education_927M_cnt', 'mean_empladdr_district_926M_cnt', 'mean_empladdr_zipcode_114M_cnt', 'mean_language1_981M_cnt', 'mean_registaddr_district_1083M_cnt', 'mean_registaddr_zipcode_184M_cnt', 'max_contaddr_matchlist_1032L_cnt', 'max_contaddr_smempladdr_334L_cnt', 'max_familystate_447L_cnt', 'max_gender_992L_cnt', 'max_housetype_905L_cnt', 'max_housingtype_772L_cnt', 'max_incometype_1044T_cnt', 'max_isreference_387L_cnt', 'max_maritalst_703L_cnt', 'max_relationshiptoclient_415T_cnt', 'max_relationshiptoclient_642T_cnt', 'max_remitter_829L_cnt', 'max_role_1084L_cnt', 'max_role_993L_cnt', 'max_safeguarantyflag_411L_cnt', 'max_sex_738L_cnt', 'max_type_25L_cnt', 'mean_familystate_447L_cnt', 'mean_gender_992L_cnt', 'mean_housetype_905L_cnt', 'mean_housingtype_772L_cnt', 'mean_incometype_1044T_cnt', 'mean_maritalst_703L_cnt', 'mean_relationshiptoclient_415T_cnt', 'mean_relationshiptoclient_642T_cnt', 'mean_role_1084L_cnt', 'mean_role_993L_cnt', 'mean_sex_738L_cnt', 'mean_type_25L_cnt', 'max_collater_typofvalofguarant_298M_cnt', 'max_collater_typofvalofguarant_407M_cnt', 'max_collaterals_typeofguarante_359M_cnt', 'max_collaterals_typeofguarante_669M_cnt', 'max_subjectroles_name_541M_cnt', 'max_subjectroles_name_838M_cnt', 'mean_collater_typofvalofguarant_298M_cnt', 'mean_collater_typofvalofguarant_407M_cnt', 'mean_collaterals_typeofguarante_359M_cnt', 'mean_collaterals_typeofguarante_669M_cnt', 'mean_subjectroles_name_541M_cnt', 'mean_subjectroles_name_838M_cnt', 'max_cacccardblochreas_147M_cnt', 'mean_cacccardblochreas_147M_cnt', 'max_conts_type_509L_cnt', 'mean_conts_type_509L_cnt', 'max_addres_district_368M_cnt', 'max_addres_zip_823M_cnt', 'max_conts_role_79M_cnt', 'max_empls_economicalst_849M_cnt', 'max_empls_employer_name_740M_cnt', 'mean_addres_district_368M_cnt', 'mean_addres_zip_823M_cnt', 'mean_conts_role_79M_cnt', 'mean_empls_economicalst_849M_cnt', 'mean_empls_employer_name_740M_cnt', 'max_addres_role_871L_cnt', 'max_relatedpersons_role_762T_cnt', 'mean_addres_role_871L_cnt', 'mean_relatedpersons_role_762T_cnt']\n",
      "缺失的列: ['riskassesment_302T_cnt']\n"
     ]
    }
   ],
   "source": [
    "# 打印 df_test 中存在的列名\n",
    "print(df_test.columns)\n",
    "\n",
    "# 检查 cols 中的每个列是否都在 df_test 中\n",
    "missing_cols = [col for col in cols if col not in df_test.columns]\n",
    "print(\"缺失的列:\", missing_cols)\n"
   ]
  },
  {
   "cell_type": "code",
   "execution_count": 10,
   "id": "55bb5d29",
   "metadata": {
    "execution": {
     "iopub.execute_input": "2024-05-25T08:47:43.996349Z",
     "iopub.status.busy": "2024-05-25T08:47:43.996050Z",
     "iopub.status.idle": "2024-05-25T08:47:44.413488Z",
     "shell.execute_reply": "2024-05-25T08:47:44.412557Z"
    },
    "papermill": {
     "duration": 0.427478,
     "end_time": "2024-05-25T08:47:44.415480",
     "exception": false,
     "start_time": "2024-05-25T08:47:43.988002",
     "status": "completed"
    },
    "tags": []
   },
   "outputs": [
    {
     "name": "stdout",
     "output_type": "stream",
     "text": [
      "Memory usage of dataframe is 0.04 MB\n",
      "Memory usage after optimization is: 0.02 MB\n",
      "Decreased by 48.6%\n",
      "test data shape:\t (10, 452)\n"
     ]
    },
    {
     "data": {
      "text/plain": [
       "0"
      ]
     },
     "execution_count": 10,
     "metadata": {},
     "output_type": "execute_result"
    }
   ],
   "source": [
    "# Calculate the mean and assign it to 'riskassesment_302T_cnt' using 'with_columns'\n",
    "df_test = df_test.with_columns(\n",
    "    pl.col('riskassesment_940T').mean().alias('riskassesment_302T_cnt')\n",
    ")\n",
    "\n",
    "# Continue with your processing\n",
    "df_test = df_test.select(['case_id'] + cols)\n",
    "df_test, cat_cols = to_pandas(df_test, cat_cols)  # Assuming this converts a Polars DataFrame to a Pandas DataFrame\n",
    "df_test = reduce_mem_usage(df_test)\n",
    "df_test = df_test.set_index('case_id')\n",
    "print(\"test data shape:\\t\", df_test.shape)\n",
    "\n",
    "gc.collect()\n"
   ]
  },
  {
   "cell_type": "code",
   "execution_count": 11,
   "id": "3a0f987d",
   "metadata": {
    "execution": {
     "iopub.execute_input": "2024-05-25T08:47:44.437381Z",
     "iopub.status.busy": "2024-05-25T08:47:44.436410Z",
     "iopub.status.idle": "2024-05-25T08:47:44.444492Z",
     "shell.execute_reply": "2024-05-25T08:47:44.443876Z"
    },
    "papermill": {
     "duration": 0.021811,
     "end_time": "2024-05-25T08:47:44.447152",
     "exception": false,
     "start_time": "2024-05-25T08:47:44.425341",
     "status": "completed"
    },
    "tags": []
   },
   "outputs": [],
   "source": [
    "class VotingModel(BaseEstimator, RegressorMixin):\n",
    "    def __init__(self, estimators):\n",
    "        super().__init__()\n",
    "        self.estimators = estimators\n",
    "        \n",
    "    def fit(self, X, y=None):\n",
    "        return self\n",
    "    \n",
    "    def predict(self, X):\n",
    "        y_preds = [estimator.predict(X) for estimator in self.estimators]\n",
    "        return np.mean(y_preds, axis=0)\n",
    "     \n",
    "    def predict_proba(self, X):      \n",
    "        # lgb\n",
    "        y_preds = [estimator.predict_proba(X) for estimator in self.estimators[:5]]\n",
    "        \n",
    "        # cat        \n",
    "        X[cat_cols] = X[cat_cols].astype(str)\n",
    "        y_preds += [estimator.predict_proba(X) for estimator in self.estimators[-5:]]\n",
    "        \n",
    "        return np.mean(y_preds, axis=0)"
   ]
  },
  {
   "cell_type": "code",
   "execution_count": 12,
   "id": "d246eb8d",
   "metadata": {
    "execution": {
     "iopub.execute_input": "2024-05-25T08:47:44.471133Z",
     "iopub.status.busy": "2024-05-25T08:47:44.470404Z",
     "iopub.status.idle": "2024-05-25T08:47:44.477118Z",
     "shell.execute_reply": "2024-05-25T08:47:44.475935Z"
    },
    "papermill": {
     "duration": 0.02191,
     "end_time": "2024-05-25T08:47:44.479405",
     "exception": false,
     "start_time": "2024-05-25T08:47:44.457495",
     "status": "completed"
    },
    "tags": []
   },
   "outputs": [
    {
     "data": {
      "text/plain": [
       "10"
      ]
     },
     "execution_count": 12,
     "metadata": {},
     "output_type": "execute_result"
    }
   ],
   "source": [
    "model = VotingModel(lgb_models + cat_models)\n",
    "len(model.estimators)"
   ]
  },
  {
   "cell_type": "code",
   "execution_count": 13,
   "id": "fc7715ee",
   "metadata": {
    "execution": {
     "iopub.execute_input": "2024-05-25T08:47:44.505756Z",
     "iopub.status.busy": "2024-05-25T08:47:44.504767Z",
     "iopub.status.idle": "2024-05-25T08:47:45.047957Z",
     "shell.execute_reply": "2024-05-25T08:47:45.046793Z"
    },
    "papermill": {
     "duration": 0.559217,
     "end_time": "2024-05-25T08:47:45.050739",
     "exception": false,
     "start_time": "2024-05-25T08:47:44.491522",
     "status": "completed"
    },
    "tags": []
   },
   "outputs": [
    {
     "data": {
      "text/html": [
       "<div>\n",
       "<style scoped>\n",
       "    .dataframe tbody tr th:only-of-type {\n",
       "        vertical-align: middle;\n",
       "    }\n",
       "\n",
       "    .dataframe tbody tr th {\n",
       "        vertical-align: top;\n",
       "    }\n",
       "\n",
       "    .dataframe thead th {\n",
       "        text-align: right;\n",
       "    }\n",
       "</style>\n",
       "<table border=\"1\" class=\"dataframe\">\n",
       "  <thead>\n",
       "    <tr style=\"text-align: right;\">\n",
       "      <th></th>\n",
       "      <th>score</th>\n",
       "    </tr>\n",
       "    <tr>\n",
       "      <th>case_id</th>\n",
       "      <th></th>\n",
       "    </tr>\n",
       "  </thead>\n",
       "  <tbody>\n",
       "    <tr>\n",
       "      <th>57543</th>\n",
       "      <td>0.019098</td>\n",
       "    </tr>\n",
       "    <tr>\n",
       "      <th>57549</th>\n",
       "      <td>0.103251</td>\n",
       "    </tr>\n",
       "    <tr>\n",
       "      <th>57551</th>\n",
       "      <td>0.003748</td>\n",
       "    </tr>\n",
       "    <tr>\n",
       "      <th>57552</th>\n",
       "      <td>0.018622</td>\n",
       "    </tr>\n",
       "    <tr>\n",
       "      <th>57569</th>\n",
       "      <td>0.276062</td>\n",
       "    </tr>\n",
       "    <tr>\n",
       "      <th>57630</th>\n",
       "      <td>0.021469</td>\n",
       "    </tr>\n",
       "    <tr>\n",
       "      <th>57631</th>\n",
       "      <td>0.082208</td>\n",
       "    </tr>\n",
       "    <tr>\n",
       "      <th>57632</th>\n",
       "      <td>0.021138</td>\n",
       "    </tr>\n",
       "    <tr>\n",
       "      <th>57633</th>\n",
       "      <td>0.098788</td>\n",
       "    </tr>\n",
       "    <tr>\n",
       "      <th>57634</th>\n",
       "      <td>0.077353</td>\n",
       "    </tr>\n",
       "  </tbody>\n",
       "</table>\n",
       "</div>"
      ],
      "text/plain": [
       "            score\n",
       "case_id          \n",
       "57543    0.019098\n",
       "57549    0.103251\n",
       "57551    0.003748\n",
       "57552    0.018622\n",
       "57569    0.276062\n",
       "57630    0.021469\n",
       "57631    0.082208\n",
       "57632    0.021138\n",
       "57633    0.098788\n",
       "57634    0.077353"
      ]
     },
     "execution_count": 13,
     "metadata": {},
     "output_type": "execute_result"
    }
   ],
   "source": [
    "y_pred = pd.Series(model.predict_proba(df_test)[:, 1], index=df_test.index)\n",
    "df_subm = pd.read_csv(ROOT / \"sample_submission.csv\")\n",
    "df_subm = df_subm.set_index(\"case_id\")\n",
    "\n",
    "df_subm[\"score\"] = y_pred\n",
    "df_subm.to_csv(\"submission.csv\")\n",
    "df_subm"
   ]
  }
 ],
 "metadata": {
  "kaggle": {
   "accelerator": "nvidiaTeslaT4",
   "dataSources": [
    {
     "databundleVersionId": 7921029,
     "sourceId": 50160,
     "sourceType": "competition"
    },
    {
     "datasetId": 4889239,
     "sourceId": 8241990,
     "sourceType": "datasetVersion"
    },
    {
     "datasetId": 4895313,
     "sourceId": 8250456,
     "sourceType": "datasetVersion"
    },
    {
     "datasetId": 4901298,
     "sourceId": 8258521,
     "sourceType": "datasetVersion"
    },
    {
     "datasetId": 4916106,
     "sourceId": 8278518,
     "sourceType": "datasetVersion"
    },
    {
     "datasetId": 4957127,
     "sourceId": 8345081,
     "sourceType": "datasetVersion"
    },
    {
     "datasetId": 4957145,
     "sourceId": 8345104,
     "sourceType": "datasetVersion"
    },
    {
     "datasetId": 4958609,
     "sourceId": 8346977,
     "sourceType": "datasetVersion"
    },
    {
     "datasetId": 4963119,
     "sourceId": 8353169,
     "sourceType": "datasetVersion"
    },
    {
     "datasetId": 4969260,
     "sourceId": 8361320,
     "sourceType": "datasetVersion"
    },
    {
     "datasetId": 4977990,
     "sourceId": 8373044,
     "sourceType": "datasetVersion"
    },
    {
     "datasetId": 4977995,
     "sourceId": 8373050,
     "sourceType": "datasetVersion"
    },
    {
     "datasetId": 5081627,
     "sourceId": 8512491,
     "sourceType": "datasetVersion"
    },
    {
     "datasetId": 5081632,
     "sourceId": 8512497,
     "sourceType": "datasetVersion"
    }
   ],
   "dockerImageVersionId": 30665,
   "isGpuEnabled": true,
   "isInternetEnabled": false,
   "language": "python",
   "sourceType": "notebook"
  },
  "kernelspec": {
   "display_name": "Python 3",
   "language": "python",
   "name": "python3"
  },
  "language_info": {
   "codemirror_mode": {
    "name": "ipython",
    "version": 3
   },
   "file_extension": ".py",
   "mimetype": "text/x-python",
   "name": "python",
   "nbconvert_exporter": "python",
   "pygments_lexer": "ipython3",
   "version": "3.10.13"
  },
  "papermill": {
   "default_parameters": {},
   "duration": 18.901954,
   "end_time": "2024-05-25T08:47:45.980715",
   "environment_variables": {},
   "exception": null,
   "input_path": "__notebook__.ipynb",
   "output_path": "__notebook__.ipynb",
   "parameters": {},
   "start_time": "2024-05-25T08:47:27.078761",
   "version": "2.5.0"
  }
 },
 "nbformat": 4,
 "nbformat_minor": 5
}
